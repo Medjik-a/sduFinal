{
 "cells": [
  {
   "cell_type": "code",
   "execution_count": 1,
   "id": "f1fb1a04",
   "metadata": {},
   "outputs": [],
   "source": [
    "import requests\n",
    "import json\n",
    "import datetime \n",
    "import pandas as pd\n",
    "import numpy as np"
   ]
  },
  {
   "cell_type": "code",
   "execution_count": 2,
   "id": "797fa903",
   "metadata": {},
   "outputs": [
    {
     "name": "stdout",
     "output_type": "stream",
     "text": [
      "C:/Users/mayag/OneDrive/Desktop/push_files\\2023-01-17.csv\n"
     ]
    }
   ],
   "source": [
    "import os\n",
    "\n",
    "# Эта функция возвращает путь к файлу, который содержит в себе контакты, \n",
    "# на которые нужно отправить уведомления сегодня\n",
    "def get_path_today():\n",
    "    directory = 'C:/Users/mayag/OneDrive/Desktop/push_files'\n",
    "    date_today = datetime.datetime.now().strftime(\"%Y-%m-%d\")\n",
    "    for file in os.scandir(directory):\n",
    "        if date_today == os.path.basename(file.path).strip('.csv'):\n",
    "            return file.path\n",
    "\n",
    "# Эта функция возвращает параметры API запроса и файл, содержащий контакты и сообщения для рассылки\n",
    "def get_data_and_file_push():\n",
    "    headers = {\"Content-Type\": \"multipart/form-data\"}\n",
    "    file_path = get_path_today()\n",
    "    file_push ={'file': open(f'{file_path}', 'rb')}\n",
    "    data_push = {\n",
    "        \"importType\": \"FROM_CSV\",\n",
    "        \"messageType\":\"PERSONAL\",\n",
    "        \"broadcastType\": \"PUSH\",\n",
    "        \"notificationType\":\"OPEN_SERVICE\",\n",
    "        \"serviceId\":\"101005\",     \n",
    "        \"serviceCode\":\"101005\",\n",
    "        \"isReact\":\"true\"}\n",
    "    return data_push, file_push\n",
    "\n",
    "print(get_path_today())"
   ]
  },
  {
   "cell_type": "code",
   "execution_count": 3,
   "id": "5a504da8",
   "metadata": {},
   "outputs": [
    {
     "name": "stdout",
     "output_type": "stream",
     "text": [
      "200\n"
     ]
    }
   ],
   "source": [
    "# Эта функция отправляет push уведомления используя сервер m.egov.kz/api\n",
    "def send_push():\n",
    "    url = \"https://m.egov.kz/api/task/broadcast/v2/create-broadcast\"\n",
    "    data_push, file_push = get_data_and_file_push()\n",
    "    r = requests.post(url, files=file_push, data=data_push)\n",
    "    print(r.status_code)\n",
    "send_push()"
   ]
  }
 ],
 "metadata": {
  "kernelspec": {
   "display_name": "Python 3",
   "language": "python",
   "name": "python3"
  },
  "language_info": {
   "codemirror_mode": {
    "name": "ipython",
    "version": 3
   },
   "file_extension": ".py",
   "mimetype": "text/x-python",
   "name": "python",
   "nbconvert_exporter": "python",
   "pygments_lexer": "ipython3",
   "version": "3.8.8"
  }
 },
 "nbformat": 4,
 "nbformat_minor": 5
}
