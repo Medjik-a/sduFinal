{
 "cells": [
  {
   "cell_type": "code",
   "execution_count": null,
   "id": "7381bd89",
   "metadata": {},
   "outputs": [],
   "source": [
    "import datetime \n",
    "import pandas as pd\n",
    "import numpy as np"
   ]
  },
  {
   "cell_type": "code",
   "execution_count": null,
   "id": "88cb6588",
   "metadata": {},
   "outputs": [],
   "source": [
    "# Этот код генерирует xlsx файлы по 10 000 строк каждый из большего xlsx файла. \n",
    "# Каждому файлу присваевается имя, соответствующее дате,в которую будет отправлены письма контактам в файле\n",
    "df_push = pd.read_csv('C:/Users/mayag/OneDrive/Desktop/appeal_portrait_tracking.csv', sep =';', converters={'iin': str} )\n",
    "date = datetime.datetime.now()\n",
    "day_counter=1\n",
    "for i, g in df_push.groupby(np.arange(len(df_push)) // 10000):\n",
    "    df_to_be_sent = pd.DataFrame() \n",
    "    date = datetime.datetime.now()\n",
    "    df_to_be_sent = pd.concat([df_to_be_sent, g[['iin', 'text']]])\n",
    "    date = date + datetime.timedelta(days = day_counter)\n",
    "    df_to_be_sent.to_csv(f'C:\\\\Users\\\\mayag\\\\OneDrive\\\\Desktop\\\\push_files\\\\{date.date()}.csv', index = False, sep =';' )\n",
    "    day_counter+=1"
   ]
  }
 ],
 "metadata": {
  "kernelspec": {
   "display_name": "Python 3",
   "language": "python",
   "name": "python3"
  },
  "language_info": {
   "codemirror_mode": {
    "name": "ipython",
    "version": 3
   },
   "file_extension": ".py",
   "mimetype": "text/x-python",
   "name": "python",
   "nbconvert_exporter": "python",
   "pygments_lexer": "ipython3",
   "version": "3.8.8"
  }
 },
 "nbformat": 4,
 "nbformat_minor": 5
}
